{
 "cells": [
  {
   "cell_type": "code",
   "execution_count": 1,
   "metadata": {},
   "outputs": [],
   "source": [
    "\n",
    "import requests\n",
    "import json\n",
    "import time\n",
    "import pandas as pd\n",
    "import csv"
   ]
  },
  {
   "cell_type": "code",
   "execution_count": 9,
   "metadata": {},
   "outputs": [
    {
     "name": "stdout",
     "output_type": "stream",
     "text": [
      "Nothing you say can upset us. We're the MTV generation.\n",
      "Bart Simpson\n"
     ]
    }
   ],
   "source": [
    "resp = requests.get('https://thesimpsonsquoteapi.glitch.me/quotes')\n",
    "\n",
    "frase=resp.json()[0]['quote']\n",
    "personaje=resp.json()[0]['character']\n",
    "\n",
    "Lisa='Lisa Simpson'\n",
    "Homer='Homer Simpson'\n",
    "\n",
    "print (frase)\n",
    "print (personaje)"
   ]
  },
  {
   "cell_type": "code",
   "execution_count": 11,
   "metadata": {},
   "outputs": [],
   "source": [
    "if frase==Lisa:\n",
    "    Lisa_Frase = {'Frase': [f'{frase}'], 'Personaje':[f'{personaje}']}\n",
    "    df=pd.DataFrame(Lisa_Frase)\n",
    "    df.to_csv('C:\\\\Users\\\\Usuario\\\\Downloads\\\\TheSimpsons\\\\1º Parte\\\\The Simpsons\\\\Lisa\\\\Lisa.csv', mode='a' , header=True, index=False)\n",
    "elif frase==Homer:\n",
    "    Homer_Frase = {'Frase': [f'{frase}'], 'Personaje' : [f'{personaje}']}\n",
    "    df=pd.DataFrame(Homer_Frase)\n",
    "    df.to_csv('C:\\\\Users\\\\Usuario\\\\Downloads\\\\TheSimpsons\\\\1º Parte\\\\The Simpsons\\\\Homer\\\\Homer.csv', mode='a' , header=True, index=False)\n",
    "else: \n",
    "    Resto_Frase = {'Frase': [f'{frase}'], 'Personaje' : [f'{personaje}']}\n",
    "    df=pd.DataFrame(Resto_Frase)\n",
    "    df.to_csv('C:\\\\Users\\\\Usuario\\\\Downloads\\\\TheSimpsons\\\\1º Parte\\\\The Simpsons\\\\General\\\\General.csv', mode='a' , header=True, index=False)\n"
   ]
  }
 ],
 "metadata": {
  "kernelspec": {
   "display_name": "Python 3.7.9 64-bit",
   "language": "python",
   "name": "python3"
  },
  "language_info": {
   "codemirror_mode": {
    "name": "ipython",
    "version": 3
   },
   "file_extension": ".py",
   "mimetype": "text/x-python",
   "name": "python",
   "nbconvert_exporter": "python",
   "pygments_lexer": "ipython3",
   "version": "3.7.9"
  },
  "orig_nbformat": 4,
  "vscode": {
   "interpreter": {
    "hash": "98f313b375bd142157bd85247f9cae0a692e725b9cc4cd8be55ca840b47a019b"
   }
  }
 },
 "nbformat": 4,
 "nbformat_minor": 2
}
